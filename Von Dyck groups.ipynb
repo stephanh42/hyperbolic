{
 "cells": [
  {
   "cell_type": "code",
   "execution_count": 1,
   "metadata": {
    "collapsed": true,
    "deletable": true,
    "editable": true
   },
   "outputs": [],
   "source": [
    "def element_to_string(elem):\n",
    "    result = []\n",
    "    for v, n in elem.syllables():\n",
    "        v = repr(v)\n",
    "        if n < 0:\n",
    "            v = v.upper()\n",
    "            n = -n\n",
    "        result.append(v * n)\n",
    "    return \"\".join(result)\n",
    "\n",
    "names = \"abAB\"\n",
    "fg = FreeGroup(\", \".join(names))\n",
    "ns = {}\n",
    "for i, name in enumerate(names):\n",
    "    ns[name] = fg.gen(i)\n",
    "\n",
    "\n",
    "def gap_to_string(gap):\n",
    "    gap = repr(gap)\n",
    "    if gap == \"<identity ...>\":\n",
    "        return \"\"\n",
    "    else:\n",
    "        gap = gap.replace(\"^\", \"**\")\n",
    "        return element_to_string(eval(gap, ns))\n",
    "\n",
    "def solve_hypergroup(p, q):\n",
    "    F = FreeGroup('b, a')\n",
    "    b = F.gen(0)\n",
    "    a = F.gen(1)\n",
    "    G = F/[b**p, a**2, (b*a)**q]\n",
    "    k = G.rewriting_system()\n",
    "    k.make_confluent()\n",
    "    return [(gap_to_string(x), gap_to_string(y)) for x, y in k.gap().Rules()]"
   ]
  },
  {
   "cell_type": "code",
   "execution_count": 2,
   "metadata": {
    "collapsed": false,
    "deletable": true,
    "editable": true
   },
   "outputs": [
    {
     "data": {
      "text/plain": [
       "[('bB', ''),\n",
       " ('Bb', ''),\n",
       " ('aa', ''),\n",
       " ('A', 'a'),\n",
       " ('aba', 'BaB'),\n",
       " ('bbbb', 'BBB'),\n",
       " ('BBBB', 'bbb'),\n",
       " ('aBa', 'bab'),\n",
       " ('abbab', 'BaBBa'),\n",
       " ('aBBaB', 'babba'),\n",
       " ('BaBBabbb', 'abbaBBB'),\n",
       " ('babbaBBB', 'aBBabbb'),\n",
       " ('BBBabbaBBB', 'bbbaBBabbb'),\n",
       " ('aBBabbbaBBabbb', 'babbaBBabbaBBB')]"
      ]
     },
     "execution_count": 2,
     "metadata": {},
     "output_type": "execute_result"
    }
   ],
   "source": [
    "solve_hypergroup(7, 3)"
   ]
  },
  {
   "cell_type": "code",
   "execution_count": 3,
   "metadata": {
    "collapsed": true,
    "deletable": true,
    "editable": true
   },
   "outputs": [],
   "source": [
    "import json"
   ]
  },
  {
   "cell_type": "code",
   "execution_count": 6,
   "metadata": {
    "collapsed": false,
    "deletable": true,
    "editable": true
   },
   "outputs": [],
   "source": [
    "groups = [(7, 3), (5, 4), (4, 5), (4, 6), (4, 8), (6, 4), (8, 3), (8, 8), (8, 4), (14, 7)]\n",
    "result = {}\n",
    "for p, q in groups:\n",
    "    rules = solve_hypergroup(p, q)\n",
    "    p = int(p)\n",
    "    q = int(q)\n",
    "    result[\"%d, %d\" % (p, q)] = {\n",
    "        \"p\": p, \"q\": q,\n",
    "        \"rules\" : rules\n",
    "        }\n",
    "\n",
    "with open(\"hyperbolic.json\", \"w\") as f:\n",
    "    json.dump(result, f, indent=2)"
   ]
  }
 ],
 "metadata": {
  "kernelspec": {
   "display_name": "SageMath 7.6",
   "language": "",
   "name": "sagemath"
  },
  "language_info": {
   "codemirror_mode": {
    "name": "ipython",
    "version": 2
   },
   "file_extension": ".py",
   "mimetype": "text/x-python",
   "name": "python",
   "nbconvert_exporter": "python",
   "pygments_lexer": "ipython2",
   "version": "2.7.13"
  }
 },
 "nbformat": 4,
 "nbformat_minor": 2
}
